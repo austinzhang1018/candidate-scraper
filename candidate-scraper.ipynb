{
 "cells": [
  {
   "cell_type": "code",
   "execution_count": 2,
   "metadata": {},
   "outputs": [],
   "source": [
    "import csv\n",
    "import requests\n",
    "from bs4 import BeautifulSoup as bs\n",
    "import Levenshtein as ls\n",
    "from pickle import dump, load"
   ]
  },
  {
   "cell_type": "code",
   "execution_count": 3,
   "metadata": {},
   "outputs": [
    {
     "data": {
      "text/plain": [
       "('Aaron Hermes', 'TX-22')"
      ]
     },
     "execution_count": 3,
     "metadata": {},
     "output_type": "execute_result"
    }
   ],
   "source": [
    "with open('Main_candidate_information.csv') as csvfile:\n",
    "    rows = [row for row in csv.DictReader(csvfile)]\n",
    "data = list(map(lambda row: (row['candidate'], row['state_dist']), rows))\n",
    "\n",
    "data[0]"
   ]
  },
  {
   "cell_type": "code",
   "execution_count": null,
   "metadata": {
    "tags": []
   },
   "outputs": [
    {
     "name": "stdout",
     "output_type": "stream",
     "text": [
      "No Data: Aaron Paul Godfrey\n",
      "No Data: Abe Jamie Garcia\n",
      "No Data: Adair Boroughs\n",
      "No Data: Adam Bolaños Scow\n",
      "No Data: Adam Smith\n",
      "No Data: Adam Wynn\n",
      "No Data: Aida Estrada Gray\n",
      "No Data: Al Green\n",
      "No Data: Al Lemmo\n",
      "No Data: Alan D. Swain\n",
      "No Data: Albert Lee\n",
      "No Data: Albert Maxwell Goldberg\n",
      "No Data: Alex B. Morse\n",
      "No Data: Alix Toulme Jr.\n",
      "No Data: Allen R. Davidson\n",
      "No Data: Amanda Brunzell\n",
      "No Data: Ameena Matthews\n",
      "No Data: Andrew Saltman\n",
      "No Data: Andy Kim\n",
      "No Data: Andy Meehan\n",
      "No Data: Andy Terrell\n",
      "No Data: Angelica Maria Dueñas\n",
      "No Data: Anthony Brown\n",
      "No Data: Anthony Clark\n",
      "No Data: Anthony Davila\n",
      "No Data: Antonio C. Amador\n",
      "No Data: Antonio Delgado\n",
      "No Data: Arthur J. Jones\n",
      "No Data: Barbara Lee\n",
      "No Data: Barry Moore\n",
      "No Data: Bart Gottschalk\n",
      "No Data: Betsy Dirksen Londrigan\n",
      "No Data: Bill Foster\n",
      "No Data: Bill Johnson\n",
      "No Data: Billy Hibbitts\n",
      "No Data: Bob Elliott\n",
      "No Data: Bob Rogers\n"
     ]
    }
   ],
   "source": [
    "def parse_html(candidate_html):\n",
    "    soup = bs(candidate_html, 'html.parser')\n",
    "    stage = 0\n",
    "    # look for elections\n",
    "    pointer = soup.find('span', id='Elections')\n",
    "    if pointer == None:\n",
    "        return None\n",
    "    # look for election year\n",
    "    year = pointer.find_next()\n",
    "    if year.text.strip() != '2020':\n",
    "        return None\n",
    "    last_section_heading = year.find_next('div', attrs={'class': 'electionsectionheading'})\n",
    "    # look for votebox\n",
    "    if 'General' not in last_section_heading.text:\n",
    "        if year.find_next('div', attrs={'class': 'votebox'}):\n",
    "            print('BUGGY TABLE');\n",
    "        return None\n",
    "    potential_table = year.find_next('div', attrs={'class': 'votebox'})\n",
    "    # get table data\n",
    "    if potential_table:\n",
    "        return list(map(lambda x: x.find('a').text.strip(), potential_table.find_all('td', attrs={'class': 'votebox-results-cell--text'})))\n",
    "    return None\n",
    "    \n",
    "    \n",
    "\n",
    "def get_data_for_candidates(data, start_idx=0):\n",
    "    ballotpedia_prefix = 'http://ballotpedia.org/'\n",
    "    seen_dists = set()\n",
    "    no_data = []\n",
    "    general_election = set()\n",
    "\n",
    "    for candidate, district in data:\n",
    "        if district in seen_dists:\n",
    "            continue\n",
    "        # candidate string creation\n",
    "        candidate_str = candidate.title().split(' ')\n",
    "        if len(candidate_str) > 1:\n",
    "            candidate_str = [candidate_str[0], candidate_str[-1]]\n",
    "        candidate_str = '_'.join(candidate_str)\n",
    "\n",
    "        url = ''.join((ballotpedia_prefix, candidate))\n",
    "        page = requests.get(url)\n",
    "        candidate_info = parse_html(page.text)\n",
    "\n",
    "        if candidate_info == None:\n",
    "            print('No Data:', candidate)\n",
    "            no_data.append(candidate)\n",
    "        else:\n",
    "            seen_dists.add(district)\n",
    "            for cand_name in candidate_info:\n",
    "                general_election.add(cand_name)\n",
    "    return general_election, no_data, seen_dists\n",
    "\n",
    "candidate_data = get_data_for_candidates(data)"
   ]
  },
  {
   "cell_type": "code",
   "execution_count": 16,
   "metadata": {
    "tags": []
   },
   "outputs": [
    {
     "name": "stdout",
     "output_type": "stream",
     "text": [
      "Aaron Hermes {'icpsr': '492220004', 'candidate': 'Aaron Hermes', 'chamber': 'House', 'state_dist': 'TX-22', 'cand_party': 'R', 'party_code': '200', 'candidate_is_incumbent': '0', 'location': 'Texas 22', 'partisanship': 'R+10', 'incumbent_rep': 'Pete Olson', 'incumbent_party': 'Republican', 'incumbent_elected': '2008', 'incumbent_status': 'Incumbent retiring.', 'congress': 'NA', 'bioname': 'NA', 'bioguide_id': 'NA', 'born': 'NA', 'nominate_dim1': 'NA', 'nominate_dim2': 'NA', 'nominate_log_likelihood': 'NA', 'nominate_geo_mean_probability': 'NA', 'nominate_number_of_votes': 'NA', 'nominate_number_of_errors': 'NA', 'nokken_poole_dim1': 'NA', 'nokken_poole_dim2': 'NA', 'senate_class': 'NA', 'new_class_code_senate': 'NA', 'text_stem': 'TX-22-hermes_aaron-', 'screen_name': '@realAaronHermes', 'official_screen_name': 'NA', 'alternate_names': 'Aaron Hermes', 'first_name': 'Aaron', 'special_name': 'first_last', 'candidate_encoding_issues': 'NA', 'GeneralElec': '0'}\n"
     ]
    }
   ],
   "source": [
    "# save/load file\n",
    "\n",
    "# with open('cand.data', 'wb') as f:\n",
    "    # dump(candidate_data, file=f)\n",
    "\n",
    "with open('cand.data', 'rb') as f:\n",
    "    cand_data = load(f)\n",
    "\n",
    "# reload candidate info just in case\n",
    "cand_dict = dict()\n",
    "with open('Main_candidate_information.csv') as csvfile:\n",
    "    rows = [row for row in csv.DictReader(csvfile)]\n",
    "\n",
    "cand_order = []\n",
    "for row in rows:\n",
    "    cand_dict[row['candidate']] = row\n",
    "    cand_order.append(row['candidate'])\n",
    "\n",
    "for d in cand_dict:\n",
    "    print(d, cand_dict[d])\n",
    "    break"
   ]
  },
  {
   "cell_type": "code",
   "execution_count": 22,
   "metadata": {},
   "outputs": [],
   "source": [
    "# group by district\n",
    "cand_dists = dict()\n",
    "for cand, cand_info in cand_dict.items():\n",
    "    district = cand_info['state_dist']\n",
    "    if district not in cand_dists:\n",
    "        cand_dists[district] = []\n",
    "    cand_dists[district].append(cand)"
   ]
  },
  {
   "cell_type": "code",
   "execution_count": 23,
   "metadata": {
    "tags": []
   },
   "outputs": [
    {
     "name": "stdout",
     "output_type": "stream",
     "text": [
      "unseen districts: {'MA-02', 'OK-04', 'SC-03', 'CT-01', 'NY-26', 'TN-06', 'AR-01', 'LA-04', 'KS-04', 'US-00', 'GA-05', 'PA-15', 'WA-09', 'ID-02'}\n"
     ]
    }
   ],
   "source": [
    "potential_candidates, unfound, seen_dists = cand_data\n",
    "# print(list(potential_candidates)[0:5], list(unfound)[0:4], list(seen_dists)[0:4])\n",
    "print('unseen districts:', set(cand_dists.keys()) - seen_dists)"
   ]
  },
  {
   "cell_type": "code",
   "execution_count": 33,
   "metadata": {
    "tags": []
   },
   "outputs": [],
   "source": [
    "# try to match ballotpedia names with known names\n",
    "# make name set\n",
    "known_names = cand_dict.keys()\n",
    "successful, no_data, seen_dists = cand_data\n",
    "exact_matches = set()"
   ]
  },
  {
   "cell_type": "code",
   "execution_count": 34,
   "metadata": {},
   "outputs": [],
   "source": [
    "# get all exact matches and update the cand dicts\n",
    "for gen_name in successful:\n",
    "    if gen_name in cand_dict:\n",
    "        cand_dict[gen_name]['GeneralElec'] = '1'\n",
    "        exact_matches.add(gen_name)"
   ]
  },
  {
   "cell_type": "code",
   "execution_count": 47,
   "metadata": {
    "tags": []
   },
   "outputs": [
    {
     "name": "stdout",
     "output_type": "stream",
     "text": [
      "563 names were unable to be automatically matched.\n",
      "unmatched name: Ross Lynn Leone\n",
      "0 No Match\n",
      "1       Rob Lydon D  CA-01\n",
      "2      Ross Spano R  FL-15\n",
      "3 Russ Cirincione D  NJ-06\n",
      "4     Katelyn Lee D  MS-03\n",
      "5     Roshan Mody D  FL-20\n",
      "Invalid input, please enter a number\n",
      "oob\n",
      "{'Rob Lydon': 'Ross Lynn Leone'}\n",
      "------------------------------------\n",
      "unmatched name: Sylvia Caravetta\n",
      "0 No Match\n",
      "1  Elisa Cardnell D  TX-02\n",
      "2     Alia Ureste R  TX-23\n",
      "3    David Cavell D  MA-04\n",
      "4    Steve Darden R  TN-01\n",
      "5     Mike Craven R  KY-03\n",
      "oob\n",
      "{'Rob Lydon': 'Ross Lynn Leone', 'Alia Ureste': 'Sylvia Caravetta'}\n",
      "------------------------------------\n",
      "unmatched name: Richard Dunn\n",
      "0 No Match\n",
      "1    Richard Rowe D  FL-03\n",
      "2    Richard Mata AI CA-48\n",
      "3   Richard Ojeda D  WV\n",
      "4  Richard Herman R  TX-13\n",
      "5   Richard Piwko R  MI-10\n",
      "oob\n",
      "{'Rob Lydon': 'Ross Lynn Leone', 'Alia Ureste': 'Sylvia Caravetta', 'Richard Ojeda': 'Richard Dunn'}\n",
      "------------------------------------\n",
      "unmatched name: Bobby Lyons\n",
      "0 No Match\n",
      "1       Rob Jones R  VA-10\n",
      "2     Jerry Evans R  IL-14\n",
      "3    Joey Nations R  OR-05\n",
      "4       Bob Olsen D  AZ-08\n",
      "5      Bob Rogers R  AL-02\n",
      "oob\n",
      "{'Rob Lydon': 'Ross Lynn Leone', 'Alia Ureste': 'Sylvia Caravetta', 'Richard Ojeda': 'Richard Dunn', 'Bob Olsen': 'Bobby Lyons'}\n",
      "------------------------------------\n",
      "unmatched name: Daniel Hoffay\n",
      "0 No Match\n",
      "1    Daniel Kemph D  KY-06\n",
      "2   Daniel Larson R  MT\n",
      "3 Daniel McCarthy R  AZ\n",
      "4    David Holden D  FL-19\n",
      "5  Daniel Kilgore D  OH-15\n",
      "oob\n",
      "{'Rob Lydon': 'Ross Lynn Leone', 'Alia Ureste': 'Sylvia Caravetta', 'Richard Ojeda': 'Richard Dunn', 'Bob Olsen': 'Bobby Lyons', 'Daniel Kilgore': 'Daniel Hoffay'}\n",
      "------------------------------------\n",
      "unmatched name: Adair Ford Boroughs\n",
      "0 No Match\n",
      "1  Adair Boroughs D  SC-02\n",
      "2  Jerry Ford Sr. D  TX-18\n",
      "3 Robin Kimbrough D  TN\n",
      "4    Aaron Hermes R  TX-22\n",
      "5  Larry Bolinger R  NE-03\n",
      "Invalid input, please enter a number\n"
     ]
    },
    {
     "ename": "KeyboardInterrupt",
     "evalue": "Interrupted by user",
     "output_type": "error",
     "traceback": [
      "\u001b[0;31m---------------------------------------------------------------------------\u001b[0m",
      "\u001b[0;31mKeyboardInterrupt\u001b[0m                         Traceback (most recent call last)",
      "\u001b[0;32m<ipython-input-47-183ad59c5ace>\u001b[0m in \u001b[0;36m<module>\u001b[0;34m\u001b[0m\n\u001b[1;32m     23\u001b[0m     \u001b[0;32mwhile\u001b[0m \u001b[0mchoice\u001b[0m \u001b[0;34m==\u001b[0m \u001b[0;32mNone\u001b[0m\u001b[0;34m:\u001b[0m\u001b[0;34m\u001b[0m\u001b[0;34m\u001b[0m\u001b[0m\n\u001b[1;32m     24\u001b[0m         \u001b[0;32mtry\u001b[0m\u001b[0;34m:\u001b[0m\u001b[0;34m\u001b[0m\u001b[0;34m\u001b[0m\u001b[0m\n\u001b[0;32m---> 25\u001b[0;31m             \u001b[0mchoice\u001b[0m \u001b[0;34m=\u001b[0m \u001b[0mint\u001b[0m\u001b[0;34m(\u001b[0m\u001b[0minput\u001b[0m\u001b[0;34m(\u001b[0m\u001b[0;34m'Choice: '\u001b[0m\u001b[0;34m)\u001b[0m\u001b[0;34m.\u001b[0m\u001b[0mstrip\u001b[0m\u001b[0;34m(\u001b[0m\u001b[0;34m)\u001b[0m\u001b[0;34m)\u001b[0m\u001b[0;34m\u001b[0m\u001b[0;34m\u001b[0m\u001b[0m\n\u001b[0m\u001b[1;32m     26\u001b[0m             \u001b[0;32mif\u001b[0m \u001b[0;36m0\u001b[0m \u001b[0;34m<=\u001b[0m \u001b[0mchoice\u001b[0m \u001b[0;34m<=\u001b[0m \u001b[0mmin\u001b[0m\u001b[0;34m(\u001b[0m\u001b[0;36m5\u001b[0m\u001b[0;34m,\u001b[0m \u001b[0mlen\u001b[0m\u001b[0;34m(\u001b[0m\u001b[0mbest_names\u001b[0m\u001b[0;34m)\u001b[0m\u001b[0;34m)\u001b[0m\u001b[0;34m:\u001b[0m\u001b[0;34m\u001b[0m\u001b[0;34m\u001b[0m\u001b[0m\n\u001b[1;32m     27\u001b[0m                 \u001b[0mprint\u001b[0m\u001b[0;34m(\u001b[0m\u001b[0;34m'oob'\u001b[0m\u001b[0;34m)\u001b[0m\u001b[0;34m\u001b[0m\u001b[0;34m\u001b[0m\u001b[0m\n",
      "\u001b[0;32m~/.local/lib/python3.8/site-packages/ipykernel/kernelbase.py\u001b[0m in \u001b[0;36mraw_input\u001b[0;34m(self, prompt)\u001b[0m\n\u001b[1;32m    858\u001b[0m                 \u001b[0;34m\"raw_input was called, but this frontend does not support input requests.\"\u001b[0m\u001b[0;34m\u001b[0m\u001b[0;34m\u001b[0m\u001b[0m\n\u001b[1;32m    859\u001b[0m             )\n\u001b[0;32m--> 860\u001b[0;31m         return self._input_request(str(prompt),\n\u001b[0m\u001b[1;32m    861\u001b[0m             \u001b[0mself\u001b[0m\u001b[0;34m.\u001b[0m\u001b[0m_parent_ident\u001b[0m\u001b[0;34m,\u001b[0m\u001b[0;34m\u001b[0m\u001b[0;34m\u001b[0m\u001b[0m\n\u001b[1;32m    862\u001b[0m             \u001b[0mself\u001b[0m\u001b[0;34m.\u001b[0m\u001b[0m_parent_header\u001b[0m\u001b[0;34m,\u001b[0m\u001b[0;34m\u001b[0m\u001b[0;34m\u001b[0m\u001b[0m\n",
      "\u001b[0;32m~/.local/lib/python3.8/site-packages/ipykernel/kernelbase.py\u001b[0m in \u001b[0;36m_input_request\u001b[0;34m(self, prompt, ident, parent, password)\u001b[0m\n\u001b[1;32m    902\u001b[0m             \u001b[0;32mexcept\u001b[0m \u001b[0mKeyboardInterrupt\u001b[0m\u001b[0;34m:\u001b[0m\u001b[0;34m\u001b[0m\u001b[0;34m\u001b[0m\u001b[0m\n\u001b[1;32m    903\u001b[0m                 \u001b[0;31m# re-raise KeyboardInterrupt, to truncate traceback\u001b[0m\u001b[0;34m\u001b[0m\u001b[0;34m\u001b[0m\u001b[0;34m\u001b[0m\u001b[0m\n\u001b[0;32m--> 904\u001b[0;31m                 \u001b[0;32mraise\u001b[0m \u001b[0mKeyboardInterrupt\u001b[0m\u001b[0;34m(\u001b[0m\u001b[0;34m\"Interrupted by user\"\u001b[0m\u001b[0;34m)\u001b[0m \u001b[0;32mfrom\u001b[0m \u001b[0;32mNone\u001b[0m\u001b[0;34m\u001b[0m\u001b[0;34m\u001b[0m\u001b[0m\n\u001b[0m\u001b[1;32m    905\u001b[0m             \u001b[0;32mexcept\u001b[0m \u001b[0mException\u001b[0m \u001b[0;32mas\u001b[0m \u001b[0me\u001b[0m\u001b[0;34m:\u001b[0m\u001b[0;34m\u001b[0m\u001b[0;34m\u001b[0m\u001b[0m\n\u001b[1;32m    906\u001b[0m                 \u001b[0mself\u001b[0m\u001b[0;34m.\u001b[0m\u001b[0mlog\u001b[0m\u001b[0;34m.\u001b[0m\u001b[0mwarning\u001b[0m\u001b[0;34m(\u001b[0m\u001b[0;34m\"Invalid Message:\"\u001b[0m\u001b[0;34m,\u001b[0m \u001b[0mexc_info\u001b[0m\u001b[0;34m=\u001b[0m\u001b[0;32mTrue\u001b[0m\u001b[0;34m)\u001b[0m\u001b[0;34m\u001b[0m\u001b[0;34m\u001b[0m\u001b[0m\n",
      "\u001b[0;31mKeyboardInterrupt\u001b[0m: Interrupted by user"
     ]
    }
   ],
   "source": [
    "remaining = successful - exact_matches\n",
    "unmatched = known_names - exact_matches\n",
    "indirect_matches = dict()\n",
    "print(len(remaining), 'names were unable to be automatically matched.')\n",
    "for indirect in remaining:\n",
    "    best_names = []\n",
    "    for name in unmatched:\n",
    "        if name in indirect_matches:\n",
    "            continue\n",
    "\n",
    "        ed = ls.distance(indirect, name)\n",
    "        \n",
    "        best_names.append((name, ed))\n",
    "        if len(best_names) > 5:\n",
    "            best_names.remove(max(best_names, key=lambda x: x[1]))\n",
    "    \n",
    "    print('unmatched name:', indirect)\n",
    "    best_names.sort(key=lambda x: x[1])\n",
    "    print('0', 'No Match')\n",
    "    for idx, option in enumerate(best_names):\n",
    "        print(idx+1, option[0].rjust(15), cand_dict[option[0]]['cand_party'].ljust(2), cand_dict[option[0]]['state_dist'])\n",
    "    choice = None\n",
    "    while choice == None:\n",
    "        try:\n",
    "            choice = int(input('Choice: ').strip())\n",
    "            if 0 <= choice <= min(5, len(best_names)):\n",
    "                print('oob')\n",
    "            assert (0 <= choice <= min(5, len(best_names))), ('choice between 0 and ' + str(min(5, len(best_names))))\n",
    "        except (ValueError, AssertionError):\n",
    "            choice = None\n",
    "            print('Invalid input, please enter a number')\n",
    "    if choice != 0:\n",
    "        selected_cand = best_names[choice-1][0]\n",
    "        cand_dict[selected_cand]['GeneralElec'] = '1'\n",
    "        indirect_matches[selected_cand] = indirect\n",
    "    else:\n",
    "        break\n",
    "    print(indirect_matches)\n",
    "    print('------------------------------------')"
   ]
  },
  {
   "cell_type": "code",
   "execution_count": 41,
   "metadata": {
    "tags": []
   },
   "outputs": [],
   "source": [
    "def sort_cands(cand_dict):\n",
    "    sorted_cands = [cand_dict[label] for label in cand_order]\n",
    "    return sorted_cands\n",
    "\n",
    "candidates_sorted = sort_cands(cand_dict)\n",
    "\n",
    "# add zeros\n",
    "for candidate in candidates_sorted:\n",
    "    if candidate['GeneralElec'] != '1':\n",
    "        if candidate['state_dist'] in seen_dists:\n",
    "            candidate['GeneralElec'] = '0'\n",
    "        else:\n",
    "            candidate['GeneralElec'] = 'UNSEEN_DIST'"
   ]
  },
  {
   "cell_type": "code",
   "execution_count": 42,
   "metadata": {
    "tags": []
   },
   "outputs": [],
   "source": [
    "# upload data for exact candidates\n",
    "with open('output.csv', 'w') as f:\n",
    "    # print(list(candidates_sorted[0].keys()))\n",
    "    headers = list(candidates_sorted[0].keys())\n",
    "    writer = csv.DictWriter(f, fieldnames=headers)\n",
    "    writer.writeheader()\n",
    "    for cand_line in candidates_sorted:\n",
    "        try:\n",
    "            writer.writerow(cand_line)\n",
    "        except:\n",
    "            print(cand_line)"
   ]
  },
  {
   "cell_type": "code",
   "execution_count": null,
   "metadata": {},
   "outputs": [],
   "source": []
  }
 ],
 "metadata": {
  "kernelspec": {
   "display_name": "Python 3.8.2 64-bit",
   "language": "python",
   "name": "python38264bitfdb93a0b609c4348a6da824e8311dad7"
  },
  "language_info": {
   "codemirror_mode": {
    "name": "ipython",
    "version": 3
   },
   "file_extension": ".py",
   "mimetype": "text/x-python",
   "name": "python",
   "nbconvert_exporter": "python",
   "pygments_lexer": "ipython3",
   "version": "3.8.2"
  }
 },
 "nbformat": 4,
 "nbformat_minor": 2
}
